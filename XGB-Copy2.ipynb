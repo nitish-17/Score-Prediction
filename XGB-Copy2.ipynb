{
 "cells": [
  {
   "cell_type": "code",
   "execution_count": 1,
   "id": "46084497",
   "metadata": {},
   "outputs": [],
   "source": [
    "import numpy as np\n",
    "import pandas as pd"
   ]
  },
  {
   "cell_type": "code",
   "execution_count": 2,
   "id": "0a1c0b41",
   "metadata": {},
   "outputs": [],
   "source": [
    "test = pd.read_csv(\"test_1zqHu22.csv\")\n",
    "train = pd.read_csv(\"train_0OECtn8.csv\")"
   ]
  },
  {
   "cell_type": "code",
   "execution_count": 3,
   "id": "6d733bba",
   "metadata": {},
   "outputs": [
    {
     "data": {
      "text/plain": [
       "Index(['row_id', 'user_id', 'category_id', 'video_id', 'age', 'gender',\n",
       "       'profession', 'followers', 'views'],\n",
       "      dtype='object')"
      ]
     },
     "execution_count": 3,
     "metadata": {},
     "output_type": "execute_result"
    }
   ],
   "source": [
    "test.columns"
   ]
  },
  {
   "cell_type": "code",
   "execution_count": 4,
   "id": "6cf82cd6",
   "metadata": {},
   "outputs": [],
   "source": [
    "cols_to_drop = ['age', 'gender',\n",
    "       'profession', 'followers', 'views']\n",
    "test_encode = test.drop(cols_to_drop,axis=1)\n",
    "train_encode = train.drop(cols_to_drop,axis=1)"
   ]
  },
  {
   "cell_type": "code",
   "execution_count": 5,
   "id": "0bf2deb8",
   "metadata": {},
   "outputs": [],
   "source": [
    "from sklearn.model_selection import train_test_split"
   ]
  },
  {
   "cell_type": "code",
   "execution_count": 6,
   "id": "e35e19b4",
   "metadata": {},
   "outputs": [],
   "source": [
    "train_encode.drop('row_id',axis=1,inplace=True)\n",
    "X = train_encode.drop('engagement_score',axis=1) # Independet variable\n",
    "y = train_encode['engagement_score'] # dependent variable\n",
    "\n",
    "X_train, X_test, y_train, y_test = train_test_split(X,y,test_size=0.3,random_state=17)"
   ]
  },
  {
   "cell_type": "code",
   "execution_count": 7,
   "id": "919c9b6d",
   "metadata": {},
   "outputs": [],
   "source": [
    "from xgboost import XGBRegressor"
   ]
  },
  {
   "cell_type": "code",
   "execution_count": 8,
   "id": "16e65e0f",
   "metadata": {},
   "outputs": [],
   "source": [
    "model = XGBRegressor()"
   ]
  },
  {
   "cell_type": "code",
   "execution_count": null,
   "id": "ac6eecc9",
   "metadata": {},
   "outputs": [],
   "source": [
    "model.fit(X,y)"
   ]
  },
  {
   "cell_type": "code",
   "execution_count": null,
   "id": "51bab300",
   "metadata": {},
   "outputs": [],
   "source": [
    "row_id = test_encode['row_id']\n",
    "test_encode.drop('row_id',axis=1,inplace=True)\n",
    "y_test_pred = model.predict(test_encode)\n",
    "data = np.column_stack((row_id, y_test_pred))\n",
    "sub = pd.DataFrame(data=data,columns=[\"row_id\",\"engagement_score\"])\n",
    "sub[\"row_id\"] = sub[\"row_id\"].astype(\"int64\")\n",
    "sub.to_csv(\"submission_xgb_1.csv\",index=False)"
   ]
  },
  {
   "cell_type": "code",
   "execution_count": null,
   "id": "3b0a620d",
   "metadata": {},
   "outputs": [],
   "source": [
    "import seaborn as sns\n",
    "sns.pairplot(test_encode)"
   ]
  },
  {
   "cell_type": "code",
   "execution_count": null,
   "id": "8dacc7c6",
   "metadata": {},
   "outputs": [],
   "source": []
  }
 ],
 "metadata": {
  "kernelspec": {
   "display_name": "Python 3 (ipykernel)",
   "language": "python",
   "name": "python3"
  },
  "language_info": {
   "codemirror_mode": {
    "name": "ipython",
    "version": 3
   },
   "file_extension": ".py",
   "mimetype": "text/x-python",
   "name": "python",
   "nbconvert_exporter": "python",
   "pygments_lexer": "ipython3",
   "version": "3.9.6"
  }
 },
 "nbformat": 4,
 "nbformat_minor": 5
}
