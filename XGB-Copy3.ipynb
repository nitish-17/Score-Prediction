{
 "cells": [
  {
   "cell_type": "code",
   "execution_count": 1,
   "id": "46084497",
   "metadata": {},
   "outputs": [],
   "source": [
    "import numpy as np\n",
    "import pandas as pd"
   ]
  },
  {
   "cell_type": "code",
   "execution_count": 2,
   "id": "0a1c0b41",
   "metadata": {},
   "outputs": [],
   "source": [
    "test = pd.read_csv(\"test_1zqHu22.csv\")\n",
    "train = pd.read_csv(\"train_0OECtn8.csv\")"
   ]
  },
  {
   "cell_type": "code",
   "execution_count": 3,
   "id": "6cf82cd6",
   "metadata": {},
   "outputs": [],
   "source": [
    "test['vid_cat'] = test['category_id'].astype(str) + test['video_id'].astype(str)\n",
    "train['vid_cat'] = train['category_id'].astype(str) + train['video_id'].astype(str)\n",
    "test['vid_cat'] = test['vid_cat'].astype('int64')\n",
    "train['vid_cat'] = train['vid_cat'].astype('int64')"
   ]
  },
  {
   "cell_type": "code",
   "execution_count": 4,
   "id": "27cd166f",
   "metadata": {},
   "outputs": [],
   "source": [
    "test.drop([\"followers\",\"views\"],axis=1,inplace=True)\n",
    "train.drop([\"followers\",\"views\"],axis=1,inplace=True)"
   ]
  },
  {
   "cell_type": "code",
   "execution_count": 5,
   "id": "eab6542c",
   "metadata": {},
   "outputs": [],
   "source": [
    "categorical_columns  = [\"gender\",\"profession\" ]\n",
    "train_encode = pd.get_dummies(data = train, prefix = 'OHE', prefix_sep='_',\n",
    "               columns = categorical_columns,\n",
    "               drop_first =True,\n",
    "              dtype='int8')"
   ]
  },
  {
   "cell_type": "code",
   "execution_count": 6,
   "id": "328f9823",
   "metadata": {},
   "outputs": [],
   "source": [
    "test_encode = pd.get_dummies(data = test, prefix = 'OHE', prefix_sep='_',\n",
    "               columns = categorical_columns,\n",
    "               drop_first =True,\n",
    "              dtype='int8')"
   ]
  },
  {
   "cell_type": "code",
   "execution_count": 7,
   "id": "0bf2deb8",
   "metadata": {},
   "outputs": [],
   "source": [
    "from sklearn.model_selection import train_test_split"
   ]
  },
  {
   "cell_type": "code",
   "execution_count": 8,
   "id": "e35e19b4",
   "metadata": {},
   "outputs": [],
   "source": [
    "train_encode.drop('row_id',axis=1,inplace=True)\n",
    "X = train_encode.drop('engagement_score',axis=1) # Independet variable\n",
    "y = train_encode['engagement_score'] # dependent variable\n",
    "\n",
    "X_train, X_test, y_train, y_test = train_test_split(X,y,test_size=0.3,random_state=17)"
   ]
  },
  {
   "cell_type": "code",
   "execution_count": 9,
   "id": "919c9b6d",
   "metadata": {},
   "outputs": [],
   "source": [
    "from xgboost import XGBRegressor"
   ]
  },
  {
   "cell_type": "code",
   "execution_count": 10,
   "id": "16e65e0f",
   "metadata": {},
   "outputs": [],
   "source": [
    "model = XGBRegressor()"
   ]
  },
  {
   "cell_type": "code",
   "execution_count": 11,
   "id": "ac6eecc9",
   "metadata": {},
   "outputs": [
    {
     "data": {
      "text/plain": [
       "XGBRegressor(base_score=0.5, booster='gbtree', colsample_bylevel=1,\n",
       "             colsample_bynode=1, colsample_bytree=1, enable_categorical=False,\n",
       "             gamma=0, gpu_id=-1, importance_type=None,\n",
       "             interaction_constraints='', learning_rate=0.300000012,\n",
       "             max_delta_step=0, max_depth=6, min_child_weight=1, missing=nan,\n",
       "             monotone_constraints='()', n_estimators=100, n_jobs=4,\n",
       "             num_parallel_tree=1, predictor='auto', random_state=0, reg_alpha=0,\n",
       "             reg_lambda=1, scale_pos_weight=1, subsample=1, tree_method='exact',\n",
       "             validate_parameters=1, verbosity=None)"
      ]
     },
     "execution_count": 11,
     "metadata": {},
     "output_type": "execute_result"
    }
   ],
   "source": [
    "model.fit(X,y)"
   ]
  },
  {
   "cell_type": "code",
   "execution_count": 12,
   "id": "51bab300",
   "metadata": {},
   "outputs": [],
   "source": [
    "row_id = test_encode['row_id']\n",
    "test_encode.drop('row_id',axis=1,inplace=True)\n",
    "y_test_pred = model.predict(test_encode)\n",
    "data = np.column_stack((row_id, y_test_pred))\n",
    "sub = pd.DataFrame(data=data,columns=[\"row_id\",\"engagement_score\"])\n",
    "sub[\"row_id\"] = sub[\"row_id\"].astype(\"int64\")\n",
    "sub.to_csv(\"submission_xgb_3.csv\",index=False)"
   ]
  }
 ],
 "metadata": {
  "kernelspec": {
   "display_name": "Python 3 (ipykernel)",
   "language": "python",
   "name": "python3"
  },
  "language_info": {
   "codemirror_mode": {
    "name": "ipython",
    "version": 3
   },
   "file_extension": ".py",
   "mimetype": "text/x-python",
   "name": "python",
   "nbconvert_exporter": "python",
   "pygments_lexer": "ipython3",
   "version": "3.9.6"
  }
 },
 "nbformat": 4,
 "nbformat_minor": 5
}
