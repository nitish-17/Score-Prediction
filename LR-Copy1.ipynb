{
 "cells": [
  {
   "cell_type": "code",
   "execution_count": 1,
   "id": "c9be7981",
   "metadata": {},
   "outputs": [],
   "source": [
    "import numpy as np\n",
    "import pandas as pd"
   ]
  },
  {
   "cell_type": "code",
   "execution_count": 2,
   "id": "c80db040",
   "metadata": {},
   "outputs": [],
   "source": [
    "test = pd.read_csv(\"test_1zqHu22.csv\")\n",
    "train = pd.read_csv(\"train_0OECtn8.csv\")"
   ]
  },
  {
   "cell_type": "code",
   "execution_count": 3,
   "id": "229ef942",
   "metadata": {},
   "outputs": [],
   "source": [
    "test.drop([\"followers\",\"views\"],axis=1,inplace=True)\n",
    "train.drop([\"followers\",\"views\"],axis=1,inplace=True)"
   ]
  },
  {
   "cell_type": "code",
   "execution_count": 4,
   "id": "8e3854da",
   "metadata": {},
   "outputs": [],
   "source": [
    "categorical_columns  = [\"gender\",\"profession\" ]\n",
    "train_encode = pd.get_dummies(data = train, prefix = 'OHE', prefix_sep='_',\n",
    "               columns = categorical_columns,\n",
    "               drop_first =True,\n",
    "              dtype='int8')"
   ]
  },
  {
   "cell_type": "code",
   "execution_count": 5,
   "id": "4db433aa",
   "metadata": {},
   "outputs": [],
   "source": [
    "test_encode = pd.get_dummies(data = test, prefix = 'OHE', prefix_sep='_',\n",
    "               columns = categorical_columns,\n",
    "               drop_first =True,\n",
    "              dtype='int8')"
   ]
  },
  {
   "cell_type": "code",
   "execution_count": 6,
   "id": "2b6e0568",
   "metadata": {},
   "outputs": [],
   "source": [
    "from sklearn.model_selection import train_test_split"
   ]
  },
  {
   "cell_type": "code",
   "execution_count": 7,
   "id": "0e6385b3",
   "metadata": {},
   "outputs": [],
   "source": [
    "train_encode.drop('row_id',axis=1,inplace=True)\n",
    "X = train_encode.drop('engagement_score',axis=1) # Independet variable\n",
    "y = train_encode['engagement_score'] # dependent variable\n",
    "\n",
    "X_train, X_test, y_train, y_test = train_test_split(X,y,test_size=0.3,random_state=17)"
   ]
  },
  {
   "cell_type": "code",
   "execution_count": 8,
   "id": "59b5233b",
   "metadata": {},
   "outputs": [],
   "source": [
    "from sklearn.linear_model import LinearRegression\n",
    "lin_reg = LinearRegression()"
   ]
  },
  {
   "cell_type": "code",
   "execution_count": 9,
   "id": "1af169d7",
   "metadata": {},
   "outputs": [
    {
     "data": {
      "text/plain": [
       "LinearRegression()"
      ]
     },
     "execution_count": 9,
     "metadata": {},
     "output_type": "execute_result"
    }
   ],
   "source": [
    "lin_reg.fit(X_train,y_train) "
   ]
  },
  {
   "cell_type": "code",
   "execution_count": 10,
   "id": "623899e2",
   "metadata": {},
   "outputs": [],
   "source": [
    "R_square = lin_reg.score(X_test,y_test)"
   ]
  },
  {
   "cell_type": "code",
   "execution_count": 11,
   "id": "584262fe",
   "metadata": {},
   "outputs": [],
   "source": [
    "row_id = test_encode['row_id']"
   ]
  },
  {
   "cell_type": "code",
   "execution_count": 12,
   "id": "d84b8582",
   "metadata": {},
   "outputs": [],
   "source": [
    "test_encode.drop('row_id',axis=1,inplace=True)"
   ]
  },
  {
   "cell_type": "code",
   "execution_count": 13,
   "id": "f846790a",
   "metadata": {},
   "outputs": [],
   "source": [
    "y_test_pred = lin_reg.predict(test_encode)"
   ]
  },
  {
   "cell_type": "code",
   "execution_count": 14,
   "id": "420830ec",
   "metadata": {},
   "outputs": [],
   "source": [
    "data = np.column_stack((row_id, y_test_pred))"
   ]
  },
  {
   "cell_type": "code",
   "execution_count": 15,
   "id": "d522e68c",
   "metadata": {},
   "outputs": [],
   "source": [
    "sub = pd.DataFrame(data=data,columns=[\"row_id\",\"engagement_score\"])\n",
    "sub[\"row_id\"] = sub[\"row_id\"].astype(\"int64\")"
   ]
  },
  {
   "cell_type": "code",
   "execution_count": 16,
   "id": "a6d6109d",
   "metadata": {},
   "outputs": [],
   "source": [
    "sub.to_csv(\"submission_1.csv\",index=False)"
   ]
  }
 ],
 "metadata": {
  "kernelspec": {
   "display_name": "Python 3 (ipykernel)",
   "language": "python",
   "name": "python3"
  },
  "language_info": {
   "codemirror_mode": {
    "name": "ipython",
    "version": 3
   },
   "file_extension": ".py",
   "mimetype": "text/x-python",
   "name": "python",
   "nbconvert_exporter": "python",
   "pygments_lexer": "ipython3",
   "version": "3.9.6"
  }
 },
 "nbformat": 4,
 "nbformat_minor": 5
}
